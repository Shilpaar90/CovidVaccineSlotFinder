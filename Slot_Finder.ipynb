{
 "cells": [
  {
   "cell_type": "code",
   "execution_count": 24,
   "metadata": {},
   "outputs": [
    {
     "name": "stdout",
     "output_type": "stream",
     "text": [
      "Requirement already satisfied: beautifulsoup4 in c:\\users\\ndh00203\\anaconda3\\lib\\site-packages (4.9.3)\n",
      "Requirement already satisfied: soupsieve>1.2 in c:\\users\\ndh00203\\anaconda3\\lib\\site-packages (from beautifulsoup4) (2.1)\n"
     ]
    }
   ],
   "source": [
    "!pip install beautifulsoup4\n",
    "\n",
    "\n"
   ]
  },
  {
   "cell_type": "code",
   "execution_count": 84,
   "metadata": {},
   "outputs": [],
   "source": [
    "import requests\n",
    "from bs4 import BeautifulSoup\n",
    "import re\n",
    "import json\n",
    "\n",
    "from email.mime.text import MIMEText\n",
    "from email.mime.multipart import MIMEMultipart\n",
    "\n",
    "def send_mail(sender_email,receiver_email, subject, content):\n",
    "    import smtplib, ssl\n",
    "\n",
    "\n",
    "    message = MIMEMultipart(\"alternative\")\n",
    "    message[\"Subject\"] = subject\n",
    "    message[\"From\"] = sender_email\n",
    "    message[\"To\"] = receiver_email\n",
    "    \n",
    "#     password = input(\"Type your password and press enter:\")\n",
    "\n",
    "    # Create the plain-text and HTML version of your message\n",
    "    text = content\n",
    "    html = \"\"\"\\\n",
    "    <html>\n",
    "      <body>\n",
    "        <p>Hi,<br>\n",
    "           How are you?<br>\n",
    "           <a href=\"http://www.realpython.com\">Real Python</a> \n",
    "           has many great tutorials.\n",
    "        </p>\n",
    "      </body>\n",
    "    </html>\n",
    "    \"\"\"\n",
    "\n",
    "    # Turn these into plain/html MIMEText objects\n",
    "    part1 = MIMEText(text, \"plain\")\n",
    "#     part2 = MIMEText(html, \"html\")\n",
    "\n",
    "    # Add HTML/plain-text parts to MIMEMultipart message\n",
    "    # The email client will try to render the last part first\n",
    "    message.attach(part1)\n",
    "#     message.attach(part2)\n",
    "\n",
    "    # Create secure connection with server and send email\n",
    "    context = ssl.create_default_context()\n",
    "    with smtplib.SMTP_SSL(\"smtp.gmail.com\", 465, context=context) as server:\n",
    "        password = \"dbckremrlmngbbhg\"\n",
    "        server.login(sender_email, password)\n",
    "        server.sendmail(\n",
    "            sender_email, receiver_email, message.as_string()\n",
    "        )\n",
    "\n",
    "def fetch_the_script_content(url, info):\n",
    "    try:\n",
    "        page = requests.post(url, data=info)\n",
    "    except:\n",
    "        sender_email = \"shilpaar90@gmail.com\"\n",
    "        receiver_email = \"shilpaar90@gmail.com\"\n",
    "        password = \"dbckremrlmngbbhg\"\n",
    "        subject = \"Slot finder update - Not reachable\" \n",
    "        send_mail(sender_email, receiver_email, subject,'' )\n",
    "    soup = BeautifulSoup(page.content, 'html.parser')\n",
    "    table_contents = soup.find_all('script',string='')\n",
    "    return table_contents[-1]\n",
    "\n",
    "def find_pattern_in_string(pattern, string):\n",
    "    string_results = re.findall(pattern, string)\n",
    "#     print(\"String results\", string_results)\n",
    "    details = []\n",
    "    for string_result in string_results:\n",
    "        center_info_json = json.loads(string_result)\n",
    "        for center_detail in center_info_json:\n",
    "            details.append(dict(zip([\"Center Name\",\"Area\",\"Pincode\",\"Earliest Date\",\"Slots\"],center_detail)))\n",
    "        return details\n",
    "\n",
    "def get_vaccine_center_info(url,info):\n",
    "    test_data = fetch_the_script_content(url,info )\n",
    "    pattern = re.compile('\\[\\[\".*\",\".*\",.*,\".*\",[0-9]*\\]\\]')\n",
    "    center_details = find_pattern_in_string(pattern, test_data.string)\n",
    "    return (center_details)\n"
   ]
  },
  {
   "cell_type": "code",
   "execution_count": 85,
   "metadata": {},
   "outputs": [],
   "source": [
    "url = \"https://under45.in/result.php\"\n",
    "chennai_data = {\"state\":\"31\",\"district\":\"571\",\"stateName\":\"Tamil+Nadu\",\"districtName\":\"Chennai\"}\n",
    "coimbatore_data = {\"state\":\"31\",\"district\":\"539\",\"stateName\":\"Tamil+Nadu\",\"districtName\":\"Coimbatore\"}\n",
    "\n",
    "odisha_khurda_data = {\"state\":\"26\",\"district\":\"446\",\"stateName\":\"Odisha\",\"districtName\":\"Khurda\"}\n",
    "maha_nanded = {\"state\":\"21\",\"district\":\"382\",\"stateName\":\"Maharashtra\",\"districtName\":\"Nanded\"}\n",
    "\n",
    "bangalore_urban_data = {\"state\":\"16\",\"district\":\"265\",\"stateName\":\"Karnataka\",\"districtName\":\"Bangalore Urban\"}\n",
    "bangalore_rural_data = {\"state\":\"16\",\"district\":\"276\",\"stateName\":\"Karnataka\",\"districtName\":\"Bangalore Rural\"}\n",
    "karnataka_bbmp_data = {\"state\":\"16\",\"district\":\"294\",\"stateName\":\"Karnataka\",\"districtName\":\"BBMP\"}\n",
    "gujarat_ahmedabad_corp_data = {\"state\":\"11\",\"district\":\"770\",\"stateName\":\"Gujarat\",\"districtName\":\"Ahmedabad Corporation\"}\n"
   ]
  },
  {
   "cell_type": "code",
   "execution_count": 86,
   "metadata": {},
   "outputs": [],
   "source": [
    "\n",
    "sender_email = \"shilpaar90@gmail.com\"\n",
    "receiver_email = \"shilpaar90@gmail.com\"\n",
    "password = \"dbckremrlmngbbhg\"\n",
    "subject = \"Slot finder update -\" "
   ]
  },
  {
   "cell_type": "code",
   "execution_count": 87,
   "metadata": {},
   "outputs": [],
   "source": [
    "import time\n",
    "import pandas as pd\n",
    "\n",
    "def monitor_slots(region_data):\n",
    "    prev_content = 'None'\n",
    "    while True:\n",
    "        content = get_vaccine_center_info(url, region_data)\n",
    "#         print(content)\n",
    "        if content:\n",
    "            if prev_content and content != prev_content:\n",
    "                send_mail(sender_email, receiver_email, subject + region_data['districtName'] + ' - ' + str(pd.DataFrame(content)['Center Name'].count()) + ' centers, ' + str(pd.DataFrame(content)['Slots'].sum()) + ' slots', json.dumps(content, indent=2))\n",
    "                prev_content = content\n",
    "        time.sleep(2*10)"
   ]
  },
  {
   "cell_type": "code",
   "execution_count": null,
   "metadata": {},
   "outputs": [],
   "source": [
    "monitor_slots(bangalore_urban_data)"
   ]
  },
  {
   "cell_type": "code",
   "execution_count": null,
   "metadata": {},
   "outputs": [],
   "source": []
  }
 ],
 "metadata": {
  "kernelspec": {
   "display_name": "Python 3",
   "language": "python",
   "name": "python3"
  },
  "language_info": {
   "codemirror_mode": {
    "name": "ipython",
    "version": 3
   },
   "file_extension": ".py",
   "mimetype": "text/x-python",
   "name": "python",
   "nbconvert_exporter": "python",
   "pygments_lexer": "ipython3",
   "version": "3.7.3"
  }
 },
 "nbformat": 4,
 "nbformat_minor": 4
}
